{
 "cells": [
  {
   "cell_type": "code",
   "execution_count": null,
   "id": "ab67877b",
   "metadata": {},
   "outputs": [],
   "source": [
    "import pandas as pd\n",
    "from sklearn.model_selection import train_test_split\n",
    "from sklearn.linear_model import Perceptron\n",
    "from sklearn.metrics import accuracy_score\n",
    "from sklearn.linear_model import LogisticRegression\n",
    "from sklearn import neighbors\n",
    "from sklearn import tree\n",
    "from sklearn import svm"
   ]
  },
  {
   "cell_type": "code",
   "execution_count": null,
   "id": "26924039",
   "metadata": {},
   "outputs": [],
   "source": [
    "pd.set_option('display.max_columns',None)\n",
    "url = 'https://raw.githubusercontent.com/datasciencedojo/datasets/master/titanic.csv'\n",
    "df = pd.read_csv(url, encoding='utf8')\n",
    "df_filter = df[['Pclass','Sex','Age','Fare','Embarked']]\n",
    "df_filter = df_filter.fillna({'Age':df_filter['Age'].mean(),\n",
    "                             'Pclass' : df_filter['Pclass'].mean(),\n",
    "                              'Fare':df_filter['Fare'].mean(),\n",
    "                              'Embarked': df_filter['Embarked'].value_counts(sort=True).keys()[0],\n",
    "                              'Sex': df_filter['Sex'].value_counts(sort=True).keys()[0]})\n",
    "df_filter.loc[:, 'SexId'] = df_filter.groupby('Sex').ngroup()\n",
    "df_filter.loc[:, 'EmbarkedId'] = df_filter.groupby('Embarked').ngroup()\n",
    "df_filter.loc[:, 'PclassId'] = df_filter.groupby('Pclass').ngroup()\n",
    "x= df_filter[['Age','PclassId','EmbarkedId','SexId','Fare']]\n",
    "y = df['Survived']"
   ]
  },
  {
   "cell_type": "code",
   "execution_count": null,
   "id": "dbd287fb",
   "metadata": {},
   "outputs": [],
   "source": [
    "x_train,x_test,y_train,y_test = train_test_split(x,y,test_size=0.2,random_state=1,stratify=y)\n",
    "ppn = Perceptron(eta0 = 0.1,random_state=1)\n",
    "ppn.fit(x_train,y_train)\n",
    "predict = ppn.predict(x_test)\n",
    "print(\"Персептрон\")\n",
    "print(accuracy_score(y_test,predict))\n",
    "print(ppn.score(x_test,y_test))"
   ]
  },
  {
   "cell_type": "code",
   "execution_count": null,
   "id": "79eda9e4",
   "metadata": {},
   "outputs": [],
   "source": [
    "x_train,x_test,y_train,y_test = train_test_split(x,y,test_size=0.2,random_state=1,stratify=y)\n",
    "lr = LogisticRegression(C=0.1,random_state=1)\n",
    "lr.fit(x_train,y_train)\n",
    "predict= lr.predict(x_test)\n",
    "print(\"Логистическая регрессия\")\n",
    "print(accuracy_score(y_test,predict))\n",
    "print(lr.score(x_test,y_test))"
   ]
  },
  {
   "cell_type": "code",
   "execution_count": null,
   "id": "4c8498e5",
   "metadata": {},
   "outputs": [],
   "source": [
    "x_train,x_test,y_train,y_test = train_test_split(x,y,test_size=0.2,random_state=1,stratify=y)\n",
    "clf = svm.SVC(C = 0.1,random_state=1)\n",
    "clf.fit(x_train,y_train)\n",
    "predict = clf.predict(x_test)\n",
    "print(\"Метод опорных векторов\")\n",
    "print(accuracy_score(y_test,predict))\n",
    "print(clf.score(x_test,y_test))"
   ]
  },
  {
   "cell_type": "code",
   "execution_count": null,
   "id": "a4f268a9",
   "metadata": {},
   "outputs": [],
   "source": [
    "x_train,x_test,y_train,y_test = train_test_split(x,y,test_size=0.2,random_state=1,stratify=y)\n",
    "tr = tree.DecisionTreeClassifier(random_state=1,)\n",
    "tr.fit(x_train,y_train)\n",
    "predict = tr.predict(x_test)\n",
    "print(\"Метод дерева\")\n",
    "print(accuracy_score(y_test,predict))\n",
    "print(tr.score(x_test,y_test))"
   ]
  },
  {
   "cell_type": "code",
   "execution_count": null,
   "id": "8bf7ab09",
   "metadata": {},
   "outputs": [],
   "source": [
    "x_train,x_test,y_train,y_test = train_test_split(x,y,test_size=0.2,random_state=1,stratify=y)\n",
    "print(\"Введите количество соседей для обучения\")\n",
    "ng = neighbors.KNeighborsClassifier(n_neighbors=int(input()))\n",
    "ng.fit(x_train,y_train)\n",
    "predict = ng.predict(x_test)\n",
    "print(\"Метод обучения К ближайших соседей\")\n",
    "print(accuracy_score(y_test,predict))\n",
    "print(ng.score(x_test,y_test))"
   ]
  }
 ],
 "metadata": {
  "kernelspec": {
   "display_name": "Python 3 (ipykernel)",
   "language": "python",
   "name": "python3"
  },
  "language_info": {
   "codemirror_mode": {
    "name": "ipython",
    "version": 3
   },
   "file_extension": ".py",
   "mimetype": "text/x-python",
   "name": "python",
   "nbconvert_exporter": "python",
   "pygments_lexer": "ipython3",
   "version": "3.9.7"
  }
 },
 "nbformat": 4,
 "nbformat_minor": 5
}
