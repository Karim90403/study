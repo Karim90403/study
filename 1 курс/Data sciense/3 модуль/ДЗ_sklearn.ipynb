{
 "cells": [
  {
   "cell_type": "code",
   "execution_count": 6,
   "id": "c75077ad-7d7e-48df-9629-6f69e1fb9c7e",
   "metadata": {},
   "outputs": [],
   "source": [
    "import pandas as pd\n",
    "import sklearn\n",
    "pd.set_option('display.max_columns',None)\n",
    "url = 'https://raw.githubusercontent.com/datasciencedojo/datasets/master/titanic.csv'\n",
    "df = pd.read_csv(url, encoding='utf8')\n",
    "df_filter = df[['Pclass','Sex','Age','Fare','Embarked']]\n",
    "df_filter = df_filter.fillna({'Age':df_filter['Age'].mean(), #Пустые строки средним\n",
    "                             'Pclass' : df_filter['Pclass'].mean(), #количеством наиб. элементов\n",
    "                              'Fare':df_filter['Fare'].mean(), #средним\n",
    "                              'Embarked': df_filter['Embarked'].value_counts(sort=True).keys()[0], # количеством наиб. элементов\n",
    "                              'Sex': df_filter['Sex'].value_counts(sort=True).keys()[0]}) #количеством наиб. элементов\n",
    "df_filter.loc[:, 'SexId'] = df_filter.groupby('Sex').ngroup() #Строковые столбцы приводим к аналоговым числовым\n",
    "df_filter.loc[:, 'EmbarkedId'] = df_filter.groupby('Embarked').ngroup()\n",
    "df_filter.loc[:, 'PclassId'] = df_filter.groupby('Pclass').ngroup()\n",
    "x= df_filter[['Age','PclassId','EmbarkedId','SexId','Fare']] #Выборка нужных свойств\n",
    "y = df['Survived'] #Выборка признака обучения\n",
    "from sklearn.model_selection import train_test_split"
   ]
  },
  {
   "cell_type": "code",
   "execution_count": 7,
   "id": "b3f62e29-675b-49ee-bf30-347f401162e7",
   "metadata": {},
   "outputs": [
    {
     "name": "stdout",
     "output_type": "stream",
     "text": [
      "Персептрон\n",
      "0.6759776536312849\n",
      "0.6759776536312849\n"
     ]
    }
   ],
   "source": [
    "from sklearn.linear_model import Perceptron #Персептрон\n",
    "x_train,x_test,y_train,y_test = train_test_split(x,y,test_size=0.2,random_state=1,stratify=y)\n",
    "ppn = Perceptron(eta0 = 0.1,random_state=1)\n",
    "ppn.fit(x_train,y_train)\n",
    "predict = ppn.predict(x_test)\n",
    "from sklearn.metrics import accuracy_score\n",
    "print(\"Персептрон\")\n",
    "print(accuracy_score(y_test,predict))\n",
    "print(ppn.score(x_test,y_test))"
   ]
  },
  {
   "cell_type": "code",
   "execution_count": 8,
   "id": "9ab4cd49-5c7c-4bc9-a92d-4fcf5a949b46",
   "metadata": {},
   "outputs": [
    {
     "name": "stdout",
     "output_type": "stream",
     "text": [
      "Логистическая регрессия\n",
      "0.7932960893854749\n",
      "0.7932960893854749\n"
     ]
    }
   ],
   "source": [
    "from sklearn.linear_model import LogisticRegression #Логистическая регрессия\n",
    "x_train,x_test,y_train,y_test = train_test_split(x,y,test_size=0.2,random_state=1,stratify=y)\n",
    "lr = LogisticRegression(C=0.1,random_state=1)\n",
    "lr.fit(x_train,y_train)\n",
    "predict= lr.predict(x_test)\n",
    "print(\"Логистическая регрессия\")\n",
    "print(accuracy_score(y_test,predict))\n",
    "print(lr.score(x_test,y_test))"
   ]
  },
  {
   "cell_type": "code",
   "execution_count": 9,
   "id": "365ccf9b-b813-46a5-a2b5-7c9e6fa7f65a",
   "metadata": {},
   "outputs": [
    {
     "name": "stdout",
     "output_type": "stream",
     "text": [
      "Метод опорных векторов\n",
      "0.6815642458100558\n",
      "0.6815642458100558\n"
     ]
    }
   ],
   "source": [
    "from sklearn import svm #Метод опорных векторов\n",
    "x_train,x_test,y_train,y_test = train_test_split(x,y,test_size=0.2,random_state=1,stratify=y)\n",
    "clf = svm.SVC(C = 0.1,random_state=1)\n",
    "clf.fit(x_train,y_train)\n",
    "predict = clf.predict(x_test)\n",
    "print(\"Метод опорных векторов\")\n",
    "print(accuracy_score(y_test,predict))\n",
    "print(clf.score(x_test,y_test))"
   ]
  },
  {
   "cell_type": "code",
   "execution_count": 10,
   "id": "0192352e-490f-49d2-a0d4-2ffd80b34eb0",
   "metadata": {},
   "outputs": [
    {
     "name": "stdout",
     "output_type": "stream",
     "text": [
      "Метод дерева\n",
      "0.7653631284916201\n",
      "0.7653631284916201\n"
     ]
    }
   ],
   "source": [
    "from sklearn import tree #Обучение на основе деревьев решений\n",
    "x_train,x_test,y_train,y_test = train_test_split(x,y,test_size=0.2,random_state=1,stratify=y)\n",
    "tr = tree.DecisionTreeClassifier(random_state=1,)\n",
    "tr.fit(x_train,y_train)\n",
    "predict = tr.predict(x_test)\n",
    "print(\"Метод дерева\")\n",
    "print(accuracy_score(y_test,predict))\n",
    "print(tr.score(x_test,y_test))"
   ]
  },
  {
   "cell_type": "code",
   "execution_count": 11,
   "id": "74ec89c2-abad-420f-87e0-7fae2b60319b",
   "metadata": {},
   "outputs": [
    {
     "name": "stdout",
     "output_type": "stream",
     "text": [
      "Введите количество соседей для обучения\n"
     ]
    },
    {
     "name": "stdin",
     "output_type": "stream",
     "text": [
      " 10\n"
     ]
    },
    {
     "name": "stdout",
     "output_type": "stream",
     "text": [
      "Метод обучения K ближайших соседей\n",
      "0.7039106145251397\n",
      "0.7039106145251397\n"
     ]
    }
   ],
   "source": [
    "from sklearn import neighbors #Алгоритм ленивого обучения k-ближайших соседей\n",
    "x_train,x_test,y_train,y_test = train_test_split(x,y,test_size=0.2,random_state=1,stratify=y)\n",
    "print(\"Введите количество соседей для обучения\")\n",
    "ng = neighbors.KNeighborsClassifier(n_neighbors=int(input()))\n",
    "ng.fit(x_train,y_train)\n",
    "predict = ng.predict(x_test)\n",
    "print(\"Метод обучения K ближайших соседей\")\n",
    "print(accuracy_score(y_test,predict))\n",
    "print(ng.score(x_test,y_test))"
   ]
  },
  {
   "cell_type": "code",
   "execution_count": null,
   "id": "14242a95-5266-4eb0-aaf2-543ecb35f7ca",
   "metadata": {},
   "outputs": [],
   "source": []
  }
 ],
 "metadata": {
  "kernelspec": {
   "display_name": "Python 3 (ipykernel)",
   "language": "python",
   "name": "python3"
  },
  "language_info": {
   "codemirror_mode": {
    "name": "ipython",
    "version": 3
   },
   "file_extension": ".py",
   "mimetype": "text/x-python",
   "name": "python",
   "nbconvert_exporter": "python",
   "pygments_lexer": "ipython3",
   "version": "3.9.7"
  }
 },
 "nbformat": 4,
 "nbformat_minor": 5
}
